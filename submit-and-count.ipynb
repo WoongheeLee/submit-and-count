{
 "cells": [
  {
   "cell_type": "code",
   "execution_count": 1,
   "metadata": {},
   "outputs": [],
   "source": [
    "import pyautogui\n",
    "import IPython.display as ipd\n",
    "from pynput import keyboard\n",
    "from pynput.mouse import Button, Controller\n",
    "import time"
   ]
  },
  {
   "cell_type": "code",
   "execution_count": 2,
   "metadata": {},
   "outputs": [],
   "source": [
    "mouse = Controller()"
   ]
  },
  {
   "cell_type": "code",
   "execution_count": 3,
   "metadata": {},
   "outputs": [],
   "source": [
    "def get_xy():\n",
    "    print(mouse.position)\n",
    "    return mouse.position"
   ]
  },
  {
   "cell_type": "code",
   "execution_count": 4,
   "metadata": {},
   "outputs": [
    {
     "name": "stdout",
     "output_type": "stream",
     "text": [
      "(63, 778)\n"
     ]
    }
   ],
   "source": [
    "x1, y1 = get_xy()"
   ]
  },
  {
   "cell_type": "code",
   "execution_count": 5,
   "metadata": {},
   "outputs": [
    {
     "name": "stdout",
     "output_type": "stream",
     "text": [
      "(62, 811)\n"
     ]
    }
   ],
   "source": [
    "x2, y2 = get_xy()"
   ]
  },
  {
   "cell_type": "code",
   "execution_count": 6,
   "metadata": {},
   "outputs": [
    {
     "name": "stdout",
     "output_type": "stream",
     "text": [
      "(64, 843)\n"
     ]
    }
   ],
   "source": [
    "x3, y3 = get_xy()"
   ]
  },
  {
   "cell_type": "code",
   "execution_count": 7,
   "metadata": {},
   "outputs": [
    {
     "name": "stdout",
     "output_type": "stream",
     "text": [
      "(63, 872)\n"
     ]
    }
   ],
   "source": [
    "x4, y4 = get_xy()"
   ]
  },
  {
   "cell_type": "code",
   "execution_count": 8,
   "metadata": {},
   "outputs": [
    {
     "name": "stdout",
     "output_type": "stream",
     "text": [
      "(60, 904)\n"
     ]
    }
   ],
   "source": [
    "x5, y5 = get_xy()"
   ]
  },
  {
   "cell_type": "code",
   "execution_count": 9,
   "metadata": {},
   "outputs": [
    {
     "name": "stdout",
     "output_type": "stream",
     "text": [
      "(61, 938)\n"
     ]
    }
   ],
   "source": [
    "x6, y6 = get_xy()"
   ]
  },
  {
   "cell_type": "code",
   "execution_count": 10,
   "metadata": {},
   "outputs": [
    {
     "name": "stdout",
     "output_type": "stream",
     "text": [
      "(65, 973)\n"
     ]
    }
   ],
   "source": [
    "xs, ys = get_xy()"
   ]
  },
  {
   "cell_type": "code",
   "execution_count": 41,
   "metadata": {},
   "outputs": [],
   "source": [
    "def move_and_click(x, y):\n",
    "    pyautogui.moveTo(x, y, .01)\n",
    "    mouse.click(Button.left, 1)"
   ]
  },
  {
   "cell_type": "code",
   "execution_count": 50,
   "metadata": {},
   "outputs": [],
   "source": [
    "count = 663"
   ]
  },
  {
   "cell_type": "code",
   "execution_count": 59,
   "metadata": {},
   "outputs": [
    {
     "name": "stdout",
     "output_type": "stream",
     "text": [
      "675\n"
     ]
    }
   ],
   "source": [
    "def on_press(key):\n",
    "    _x, _y = mouse.position\n",
    "    global count\n",
    "    try:\n",
    "        print(key.char)\n",
    "        if key.char == keyboard.Key.esc:\n",
    "            print('See you later!')\n",
    "        elif key.char == '1':\n",
    "            move_and_click(x1,y1)\n",
    "            move_and_click(xs,ys)\n",
    "            count += 1\n",
    "        elif key.char == '2':\n",
    "            move_and_click(x2,y2)\n",
    "            move_and_click(xs,ys)\n",
    "            count += 1\n",
    "        elif key.char == '3':\n",
    "            move_and_click(x3,y3)\n",
    "            move_and_click(xs,ys)\n",
    "            count += 1\n",
    "        elif key.char == '4':\n",
    "            move_and_click(x4,y4)\n",
    "            move_and_click(xs,ys)\n",
    "            count += 1\n",
    "        elif key.char == '5':\n",
    "            move_and_click(x5,y5)\n",
    "            move_and_click(xs,ys)\n",
    "        elif key.char == '6':\n",
    "            move_and_click(x6,y6)\n",
    "            move_and_click(xs,ys)\n",
    "            \n",
    "        move_and_click(_x, _y)\n",
    "        ipd.clear_output(wait=True)\n",
    "        print(count)\n",
    "\n",
    "    except AttributeError:\n",
    "        pass\n",
    "\n",
    "def on_release(key):\n",
    "    if key == keyboard.Key.esc:\n",
    "        # Stop listener\n",
    "        return False\n",
    "\n",
    "listener = keyboard.Listener(\n",
    "    on_press=on_press,\n",
    "    on_release=on_release)\n",
    "listener.start()"
   ]
  },
  {
   "cell_type": "code",
   "execution_count": 60,
   "metadata": {},
   "outputs": [
    {
     "data": {
      "text/plain": [
       "675"
      ]
     },
     "execution_count": 60,
     "metadata": {},
     "output_type": "execute_result"
    }
   ],
   "source": [
    "count"
   ]
  }
 ],
 "metadata": {
  "kernelspec": {
   "display_name": "Python 3",
   "language": "python",
   "name": "python3"
  },
  "language_info": {
   "codemirror_mode": {
    "name": "ipython",
    "version": 3
   },
   "file_extension": ".py",
   "mimetype": "text/x-python",
   "name": "python",
   "nbconvert_exporter": "python",
   "pygments_lexer": "ipython3",
   "version": "3.7.9"
  }
 },
 "nbformat": 4,
 "nbformat_minor": 4
}
