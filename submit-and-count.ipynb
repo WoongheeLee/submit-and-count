{
 "cells": [
  {
   "cell_type": "code",
   "execution_count": 44,
   "metadata": {},
   "outputs": [],
   "source": [
    "import pyautogui\n",
    "import IPython.display as ipd\n",
    "from pynput import keyboard\n",
    "from pynput.mouse import Button, Controller\n",
    "import time\n",
    "from db import *\n",
    "import matplotlib.pyplot as plt\n",
    "%matplotlib inline"
   ]
  },
  {
   "cell_type": "markdown",
   "metadata": {},
   "source": [
    "# DB 확인"
   ]
  },
  {
   "cell_type": "code",
   "execution_count": 2,
   "metadata": {},
   "outputs": [],
   "source": [
    "mouse = Controller()"
   ]
  },
  {
   "cell_type": "code",
   "execution_count": 3,
   "metadata": {},
   "outputs": [],
   "source": [
    "def get_xy():\n",
    "    print(mouse.position)\n",
    "    return mouse.position"
   ]
  },
  {
   "cell_type": "markdown",
   "metadata": {},
   "source": [
    "# 라디오 버튼 여섯개 위에 마우스를 한번씩 올려두고 아래 코드를 실행"
   ]
  },
  {
   "cell_type": "code",
   "execution_count": 4,
   "metadata": {},
   "outputs": [
    {
     "name": "stdout",
     "output_type": "stream",
     "text": [
      "(220, 787)\n"
     ]
    }
   ],
   "source": [
    "x1, y1 = get_xy()"
   ]
  },
  {
   "cell_type": "code",
   "execution_count": 5,
   "metadata": {},
   "outputs": [
    {
     "name": "stdout",
     "output_type": "stream",
     "text": [
      "(219, 819)\n"
     ]
    }
   ],
   "source": [
    "x2, y2 = get_xy()"
   ]
  },
  {
   "cell_type": "code",
   "execution_count": 6,
   "metadata": {},
   "outputs": [
    {
     "name": "stdout",
     "output_type": "stream",
     "text": [
      "(221, 848)\n"
     ]
    }
   ],
   "source": [
    "x3, y3 = get_xy()"
   ]
  },
  {
   "cell_type": "code",
   "execution_count": 7,
   "metadata": {},
   "outputs": [
    {
     "name": "stdout",
     "output_type": "stream",
     "text": [
      "(221, 879)\n"
     ]
    }
   ],
   "source": [
    "x4, y4 = get_xy()"
   ]
  },
  {
   "cell_type": "code",
   "execution_count": 8,
   "metadata": {},
   "outputs": [
    {
     "name": "stdout",
     "output_type": "stream",
     "text": [
      "(219, 912)\n"
     ]
    }
   ],
   "source": [
    "x5, y5 = get_xy()"
   ]
  },
  {
   "cell_type": "code",
   "execution_count": 9,
   "metadata": {},
   "outputs": [
    {
     "name": "stdout",
     "output_type": "stream",
     "text": [
      "(221, 942)\n"
     ]
    }
   ],
   "source": [
    "x6, y6 = get_xy()"
   ]
  },
  {
   "cell_type": "code",
   "execution_count": 10,
   "metadata": {},
   "outputs": [
    {
     "name": "stdout",
     "output_type": "stream",
     "text": [
      "(215, 991)\n"
     ]
    }
   ],
   "source": [
    "xs, ys = get_xy()"
   ]
  },
  {
   "cell_type": "code",
   "execution_count": 32,
   "metadata": {},
   "outputs": [],
   "source": [
    "def move_and_click(x, y):\n",
    "    pyautogui.moveTo(x, y, .01)\n",
    "    mouse.click(Button.left, 1)"
   ]
  },
  {
   "cell_type": "code",
   "execution_count": 45,
   "metadata": {},
   "outputs": [],
   "source": [
    "import sys\n",
    "del sys.modules['db']\n",
    "from db import *"
   ]
  },
  {
   "cell_type": "code",
   "execution_count": 46,
   "metadata": {},
   "outputs": [],
   "source": [
    "cnt_triplet = []\n",
    "cnt_pospair = []\n",
    "cnt_negpair = []"
   ]
  },
  {
   "cell_type": "code",
   "execution_count": 61,
   "metadata": {},
   "outputs": [],
   "source": [
    "def on_press(key):\n",
    "    global cnt_triplet, cnt_pospair, cnt_negpair\n",
    "    _x, _y = mouse.position\n",
    "    global count\n",
    "    try:\n",
    "        print(key.char)\n",
    "        if key.char == keyboard.Key.esc:\n",
    "            print('See you later!')\n",
    "        elif key.char == '1':\n",
    "            move_and_click(x1,y1)\n",
    "            move_and_click(xs,ys)\n",
    "            count += 1\n",
    "        elif key.char == '2':\n",
    "            move_and_click(x2,y2)\n",
    "            move_and_click(xs,ys)\n",
    "            count += 1\n",
    "        elif key.char == '3':\n",
    "            move_and_click(x3,y3)\n",
    "            move_and_click(xs,ys)\n",
    "            count += 1\n",
    "        elif key.char == '4':\n",
    "            move_and_click(x4,y4)\n",
    "            move_and_click(xs,ys)\n",
    "            count += 1\n",
    "        elif key.char == '5':\n",
    "            move_and_click(x5,y5)\n",
    "            move_and_click(xs,ys)\n",
    "        elif key.char == '6':\n",
    "            move_and_click(x6,y6)\n",
    "            move_and_click(xs,ys)\n",
    "            \n",
    "        move_and_click(_x, _y)\n",
    "        ipd.clear_output(wait=True)\n",
    "        print('라벨링', count)\n",
    "#         count_image()\n",
    "        cnt_triplet.append(count_triplet())\n",
    "        cnt_pospair.append(count_pospair())\n",
    "        cnt_negpair.append(count_negpair())\n",
    "        \n",
    "        plt.figure(figsize=(10,1),dpi=100)\n",
    "        plt.plot(cnt_triplet, label='triplet', color='green')\n",
    "        plt.legend()\n",
    "        plt.show()\n",
    "        plt.figure(figsize=(10,1),dpi=100)\n",
    "        plt.plot(cnt_pospair, label='pos pair', color='blue')\n",
    "        plt.legend()\n",
    "        plt.show()\n",
    "        plt.figure(figsize=(10,1),dpi=100)\n",
    "        plt.plot(cnt_negpair, label='neg pair', color='red')\n",
    "        plt.legend()\n",
    "        plt.show()\n",
    "\n",
    "    except AttributeError:\n",
    "        pass\n",
    "def on_release(key):\n",
    "    if key == keyboard.Key.esc:\n",
    "        print('See you later!')\n",
    "        # Stop listener\n",
    "        return False"
   ]
  },
  {
   "cell_type": "markdown",
   "metadata": {},
   "source": [
    "# 오늘 처음 라벨링이라면 아래 카운트 0으로 두고 시작"
   ]
  },
  {
   "cell_type": "code",
   "execution_count": 15,
   "metadata": {},
   "outputs": [],
   "source": [
    "count = 100"
   ]
  },
  {
   "cell_type": "markdown",
   "metadata": {},
   "source": [
    "# 아래 코드를 실행\n",
    "* 라디오 버튼 번호에 해당하는 키보드 숫자 (qwerty 위에 있는거) 누르면 자동으로 서브밋과 카운트 해줌\n",
    "* 'ESC' 누르면 종료"
   ]
  },
  {
   "cell_type": "code",
   "execution_count": 63,
   "metadata": {},
   "outputs": [
    {
     "name": "stdout",
     "output_type": "stream",
     "text": [
      "라벨링 224\n",
      "# of triplet: 3904\n",
      "# of positive pair: 702\n",
      "# of negative pair: 3347\n"
     ]
    },
    {
     "data": {
      "image/png": "[encoded data removed]",
      "text/plain": [
       "<Figure size 1000x100 with 1 Axes>"
      ]
     },
     "metadata": {
      "needs_background": "light"
     },
     "output_type": "display_data"
    },
    {
     "data": {
      "image/png": "[encoded data removed]",
      "text/plain": [
       "<Figure size 1000x100 with 1 Axes>"
      ]
     },
     "metadata": {
      "needs_background": "light"
     },
     "output_type": "display_data"
    },
    {
     "data": {
      "image/png": "[encoded data removed]",
      "text/plain": [
       "<Figure size 1000x100 with 1 Axes>"
      ]
     },
     "metadata": {
      "needs_background": "light"
     },
     "output_type": "display_data"
    },
    {
     "name": "stdout",
     "output_type": "stream",
     "text": [
      "See you later!\n"
     ]
    }
   ],
   "source": [
    "listener = keyboard.Listener(\n",
    "    on_press=on_press,\n",
    "    on_release=on_release)\n",
    "listener.start()"
   ]
  },
  {
   "cell_type": "code",
   "execution_count": null,
   "metadata": {},
   "outputs": [],
   "source": []
  }
 ],
 "metadata": {
  "kernelspec": {
   "display_name": "Python 3",
   "language": "python",
   "name": "python3"
  },
  "language_info": {
   "codemirror_mode": {
    "name": "ipython",
    "version": 3
   },
   "file_extension": ".py",
   "mimetype": "text/x-python",
   "name": "python",
   "nbconvert_exporter": "python",
   "pygments_lexer": "ipython3",
   "version": "3.7.9"
  }
 },
 "nbformat": 4,
 "nbformat_minor": 4
}
